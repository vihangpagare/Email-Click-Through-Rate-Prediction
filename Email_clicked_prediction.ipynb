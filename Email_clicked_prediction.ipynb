{
  "cells": [
    {
      "cell_type": "code",
      "source": [
        "!pip install catboost imbalanced-learn pytorch-tabnet"
      ],
      "metadata": {
        "id": "dwJ9-sAE0kLY",
        "colab": {
          "base_uri": "https://localhost:8080/"
        },
        "outputId": "a6bbfe9e-2e6b-475c-955d-98fc17af6bfe"
      },
      "execution_count": 1,
      "outputs": [
        {
          "output_type": "stream",
          "name": "stdout",
          "text": [
            "Collecting catboost\n",
            "  Downloading catboost-1.2.8-cp311-cp311-manylinux2014_x86_64.whl.metadata (1.2 kB)\n",
            "Requirement already satisfied: imbalanced-learn in /usr/local/lib/python3.11/dist-packages (0.13.0)\n",
            "Collecting pytorch-tabnet\n",
            "  Downloading pytorch_tabnet-4.1.0-py3-none-any.whl.metadata (15 kB)\n",
            "Requirement already satisfied: graphviz in /usr/local/lib/python3.11/dist-packages (from catboost) (0.20.3)\n",
            "Requirement already satisfied: matplotlib in /usr/local/lib/python3.11/dist-packages (from catboost) (3.10.0)\n",
            "Requirement already satisfied: numpy<3.0,>=1.16.0 in /usr/local/lib/python3.11/dist-packages (from catboost) (2.0.2)\n",
            "Requirement already satisfied: pandas>=0.24 in /usr/local/lib/python3.11/dist-packages (from catboost) (2.2.2)\n",
            "Requirement already satisfied: scipy in /usr/local/lib/python3.11/dist-packages (from catboost) (1.14.1)\n",
            "Requirement already satisfied: plotly in /usr/local/lib/python3.11/dist-packages (from catboost) (5.24.1)\n",
            "Requirement already satisfied: six in /usr/local/lib/python3.11/dist-packages (from catboost) (1.17.0)\n",
            "Requirement already satisfied: scikit-learn<2,>=1.3.2 in /usr/local/lib/python3.11/dist-packages (from imbalanced-learn) (1.6.1)\n",
            "Requirement already satisfied: sklearn-compat<1,>=0.1 in /usr/local/lib/python3.11/dist-packages (from imbalanced-learn) (0.1.3)\n",
            "Requirement already satisfied: joblib<2,>=1.1.1 in /usr/local/lib/python3.11/dist-packages (from imbalanced-learn) (1.4.2)\n",
            "Requirement already satisfied: threadpoolctl<4,>=2.0.0 in /usr/local/lib/python3.11/dist-packages (from imbalanced-learn) (3.6.0)\n",
            "Requirement already satisfied: torch>=1.3 in /usr/local/lib/python3.11/dist-packages (from pytorch-tabnet) (2.6.0+cu124)\n",
            "Requirement already satisfied: tqdm>=4.36 in /usr/local/lib/python3.11/dist-packages (from pytorch-tabnet) (4.67.1)\n",
            "Requirement already satisfied: python-dateutil>=2.8.2 in /usr/local/lib/python3.11/dist-packages (from pandas>=0.24->catboost) (2.8.2)\n",
            "Requirement already satisfied: pytz>=2020.1 in /usr/local/lib/python3.11/dist-packages (from pandas>=0.24->catboost) (2025.2)\n",
            "Requirement already satisfied: tzdata>=2022.7 in /usr/local/lib/python3.11/dist-packages (from pandas>=0.24->catboost) (2025.2)\n",
            "Requirement already satisfied: filelock in /usr/local/lib/python3.11/dist-packages (from torch>=1.3->pytorch-tabnet) (3.18.0)\n",
            "Requirement already satisfied: typing-extensions>=4.10.0 in /usr/local/lib/python3.11/dist-packages (from torch>=1.3->pytorch-tabnet) (4.13.2)\n",
            "Requirement already satisfied: networkx in /usr/local/lib/python3.11/dist-packages (from torch>=1.3->pytorch-tabnet) (3.4.2)\n",
            "Requirement already satisfied: jinja2 in /usr/local/lib/python3.11/dist-packages (from torch>=1.3->pytorch-tabnet) (3.1.6)\n",
            "Requirement already satisfied: fsspec in /usr/local/lib/python3.11/dist-packages (from torch>=1.3->pytorch-tabnet) (2025.3.2)\n",
            "Collecting nvidia-cuda-nvrtc-cu12==12.4.127 (from torch>=1.3->pytorch-tabnet)\n",
            "  Downloading nvidia_cuda_nvrtc_cu12-12.4.127-py3-none-manylinux2014_x86_64.whl.metadata (1.5 kB)\n",
            "Collecting nvidia-cuda-runtime-cu12==12.4.127 (from torch>=1.3->pytorch-tabnet)\n",
            "  Downloading nvidia_cuda_runtime_cu12-12.4.127-py3-none-manylinux2014_x86_64.whl.metadata (1.5 kB)\n",
            "Collecting nvidia-cuda-cupti-cu12==12.4.127 (from torch>=1.3->pytorch-tabnet)\n",
            "  Downloading nvidia_cuda_cupti_cu12-12.4.127-py3-none-manylinux2014_x86_64.whl.metadata (1.6 kB)\n",
            "Collecting nvidia-cudnn-cu12==9.1.0.70 (from torch>=1.3->pytorch-tabnet)\n",
            "  Downloading nvidia_cudnn_cu12-9.1.0.70-py3-none-manylinux2014_x86_64.whl.metadata (1.6 kB)\n",
            "Collecting nvidia-cublas-cu12==12.4.5.8 (from torch>=1.3->pytorch-tabnet)\n",
            "  Downloading nvidia_cublas_cu12-12.4.5.8-py3-none-manylinux2014_x86_64.whl.metadata (1.5 kB)\n",
            "Collecting nvidia-cufft-cu12==11.2.1.3 (from torch>=1.3->pytorch-tabnet)\n",
            "  Downloading nvidia_cufft_cu12-11.2.1.3-py3-none-manylinux2014_x86_64.whl.metadata (1.5 kB)\n",
            "Collecting nvidia-curand-cu12==10.3.5.147 (from torch>=1.3->pytorch-tabnet)\n",
            "  Downloading nvidia_curand_cu12-10.3.5.147-py3-none-manylinux2014_x86_64.whl.metadata (1.5 kB)\n",
            "Collecting nvidia-cusolver-cu12==11.6.1.9 (from torch>=1.3->pytorch-tabnet)\n",
            "  Downloading nvidia_cusolver_cu12-11.6.1.9-py3-none-manylinux2014_x86_64.whl.metadata (1.6 kB)\n",
            "Collecting nvidia-cusparse-cu12==12.3.1.170 (from torch>=1.3->pytorch-tabnet)\n",
            "  Downloading nvidia_cusparse_cu12-12.3.1.170-py3-none-manylinux2014_x86_64.whl.metadata (1.6 kB)\n",
            "Requirement already satisfied: nvidia-cusparselt-cu12==0.6.2 in /usr/local/lib/python3.11/dist-packages (from torch>=1.3->pytorch-tabnet) (0.6.2)\n",
            "Requirement already satisfied: nvidia-nccl-cu12==2.21.5 in /usr/local/lib/python3.11/dist-packages (from torch>=1.3->pytorch-tabnet) (2.21.5)\n",
            "Requirement already satisfied: nvidia-nvtx-cu12==12.4.127 in /usr/local/lib/python3.11/dist-packages (from torch>=1.3->pytorch-tabnet) (12.4.127)\n",
            "Collecting nvidia-nvjitlink-cu12==12.4.127 (from torch>=1.3->pytorch-tabnet)\n",
            "  Downloading nvidia_nvjitlink_cu12-12.4.127-py3-none-manylinux2014_x86_64.whl.metadata (1.5 kB)\n",
            "Requirement already satisfied: triton==3.2.0 in /usr/local/lib/python3.11/dist-packages (from torch>=1.3->pytorch-tabnet) (3.2.0)\n",
            "Requirement already satisfied: sympy==1.13.1 in /usr/local/lib/python3.11/dist-packages (from torch>=1.3->pytorch-tabnet) (1.13.1)\n",
            "Requirement already satisfied: mpmath<1.4,>=1.1.0 in /usr/local/lib/python3.11/dist-packages (from sympy==1.13.1->torch>=1.3->pytorch-tabnet) (1.3.0)\n",
            "Requirement already satisfied: contourpy>=1.0.1 in /usr/local/lib/python3.11/dist-packages (from matplotlib->catboost) (1.3.2)\n",
            "Requirement already satisfied: cycler>=0.10 in /usr/local/lib/python3.11/dist-packages (from matplotlib->catboost) (0.12.1)\n",
            "Requirement already satisfied: fonttools>=4.22.0 in /usr/local/lib/python3.11/dist-packages (from matplotlib->catboost) (4.57.0)\n",
            "Requirement already satisfied: kiwisolver>=1.3.1 in /usr/local/lib/python3.11/dist-packages (from matplotlib->catboost) (1.4.8)\n",
            "Requirement already satisfied: packaging>=20.0 in /usr/local/lib/python3.11/dist-packages (from matplotlib->catboost) (24.2)\n",
            "Requirement already satisfied: pillow>=8 in /usr/local/lib/python3.11/dist-packages (from matplotlib->catboost) (11.1.0)\n",
            "Requirement already satisfied: pyparsing>=2.3.1 in /usr/local/lib/python3.11/dist-packages (from matplotlib->catboost) (3.2.3)\n",
            "Requirement already satisfied: tenacity>=6.2.0 in /usr/local/lib/python3.11/dist-packages (from plotly->catboost) (9.1.2)\n",
            "Requirement already satisfied: MarkupSafe>=2.0 in /usr/local/lib/python3.11/dist-packages (from jinja2->torch>=1.3->pytorch-tabnet) (3.0.2)\n",
            "Downloading catboost-1.2.8-cp311-cp311-manylinux2014_x86_64.whl (99.2 MB)\n",
            "\u001b[2K   \u001b[90m━━━━━━━━━━━━━━━━━━━━━━━━━━━━━━━━━━━━━━━━\u001b[0m \u001b[32m99.2/99.2 MB\u001b[0m \u001b[31m4.4 MB/s\u001b[0m eta \u001b[36m0:00:00\u001b[0m\n",
            "\u001b[?25hDownloading pytorch_tabnet-4.1.0-py3-none-any.whl (44 kB)\n",
            "\u001b[2K   \u001b[90m━━━━━━━━━━━━━━━━━━━━━━━━━━━━━━━━━━━━━━━━\u001b[0m \u001b[32m44.5/44.5 kB\u001b[0m \u001b[31m882.0 kB/s\u001b[0m eta \u001b[36m0:00:00\u001b[0m\n",
            "\u001b[?25hDownloading nvidia_cublas_cu12-12.4.5.8-py3-none-manylinux2014_x86_64.whl (363.4 MB)\n",
            "\u001b[2K   \u001b[90m━━━━━━━━━━━━━━━━━━━━━━━━━━━━━━━━━━━━━━━━\u001b[0m \u001b[32m363.4/363.4 MB\u001b[0m \u001b[31m3.1 MB/s\u001b[0m eta \u001b[36m0:00:00\u001b[0m\n",
            "\u001b[?25hDownloading nvidia_cuda_cupti_cu12-12.4.127-py3-none-manylinux2014_x86_64.whl (13.8 MB)\n",
            "\u001b[2K   \u001b[90m━━━━━━━━━━━━━━━━━━━━━━━━━━━━━━━━━━━━━━━━\u001b[0m \u001b[32m13.8/13.8 MB\u001b[0m \u001b[31m21.8 MB/s\u001b[0m eta \u001b[36m0:00:00\u001b[0m\n",
            "\u001b[?25hDownloading nvidia_cuda_nvrtc_cu12-12.4.127-py3-none-manylinux2014_x86_64.whl (24.6 MB)\n",
            "\u001b[2K   \u001b[90m━━━━━━━━━━━━━━━━━━━━━━━━━━━━━━━━━━━━━━━━\u001b[0m \u001b[32m24.6/24.6 MB\u001b[0m \u001b[31m21.1 MB/s\u001b[0m eta \u001b[36m0:00:00\u001b[0m\n",
            "\u001b[?25hDownloading nvidia_cuda_runtime_cu12-12.4.127-py3-none-manylinux2014_x86_64.whl (883 kB)\n",
            "\u001b[2K   \u001b[90m━━━━━━━━━━━━━━━━━━━━━━━━━━━━━━━━━━━━━━━━\u001b[0m \u001b[32m883.7/883.7 kB\u001b[0m \u001b[31m18.2 MB/s\u001b[0m eta \u001b[36m0:00:00\u001b[0m\n",
            "\u001b[?25hDownloading nvidia_cudnn_cu12-9.1.0.70-py3-none-manylinux2014_x86_64.whl (664.8 MB)\n",
            "\u001b[2K   \u001b[90m━━━━━━━━━━━━━━━━━━━━━━━━━━━━━━━━━━━━━━━━\u001b[0m \u001b[32m664.8/664.8 MB\u001b[0m \u001b[31m2.1 MB/s\u001b[0m eta \u001b[36m0:00:00\u001b[0m\n",
            "\u001b[?25hDownloading nvidia_cufft_cu12-11.2.1.3-py3-none-manylinux2014_x86_64.whl (211.5 MB)\n",
            "\u001b[2K   \u001b[90m━━━━━━━━━━━━━━━━━━━━━━━━━━━━━━━━━━━━━━━━\u001b[0m \u001b[32m211.5/211.5 MB\u001b[0m \u001b[31m6.0 MB/s\u001b[0m eta \u001b[36m0:00:00\u001b[0m\n",
            "\u001b[?25hDownloading nvidia_curand_cu12-10.3.5.147-py3-none-manylinux2014_x86_64.whl (56.3 MB)\n",
            "\u001b[2K   \u001b[90m━━━━━━━━━━━━━━━━━━━━━━━━━━━━━━━━━━━━━━━━\u001b[0m \u001b[32m56.3/56.3 MB\u001b[0m \u001b[31m12.9 MB/s\u001b[0m eta \u001b[36m0:00:00\u001b[0m\n",
            "\u001b[?25hDownloading nvidia_cusolver_cu12-11.6.1.9-py3-none-manylinux2014_x86_64.whl (127.9 MB)\n",
            "\u001b[2K   \u001b[90m━━━━━━━━━━━━━━━━━━━━━━━━━━━━━━━━━━━━━━━━\u001b[0m \u001b[32m127.9/127.9 MB\u001b[0m \u001b[31m7.2 MB/s\u001b[0m eta \u001b[36m0:00:00\u001b[0m\n",
            "\u001b[?25hDownloading nvidia_cusparse_cu12-12.3.1.170-py3-none-manylinux2014_x86_64.whl (207.5 MB)\n",
            "\u001b[2K   \u001b[90m━━━━━━━━━━━━━━━━━━━━━━━━━━━━━━━━━━━━━━━━\u001b[0m \u001b[32m207.5/207.5 MB\u001b[0m \u001b[31m5.5 MB/s\u001b[0m eta \u001b[36m0:00:00\u001b[0m\n",
            "\u001b[?25hDownloading nvidia_nvjitlink_cu12-12.4.127-py3-none-manylinux2014_x86_64.whl (21.1 MB)\n",
            "\u001b[2K   \u001b[90m━━━━━━━━━━━━━━━━━━━━━━━━━━━━━━━━━━━━━━━━\u001b[0m \u001b[32m21.1/21.1 MB\u001b[0m \u001b[31m77.2 MB/s\u001b[0m eta \u001b[36m0:00:00\u001b[0m\n",
            "\u001b[?25hInstalling collected packages: nvidia-nvjitlink-cu12, nvidia-curand-cu12, nvidia-cufft-cu12, nvidia-cuda-runtime-cu12, nvidia-cuda-nvrtc-cu12, nvidia-cuda-cupti-cu12, nvidia-cublas-cu12, nvidia-cusparse-cu12, nvidia-cudnn-cu12, nvidia-cusolver-cu12, catboost, pytorch-tabnet\n",
            "  Attempting uninstall: nvidia-nvjitlink-cu12\n",
            "    Found existing installation: nvidia-nvjitlink-cu12 12.5.82\n",
            "    Uninstalling nvidia-nvjitlink-cu12-12.5.82:\n",
            "      Successfully uninstalled nvidia-nvjitlink-cu12-12.5.82\n",
            "  Attempting uninstall: nvidia-curand-cu12\n",
            "    Found existing installation: nvidia-curand-cu12 10.3.6.82\n",
            "    Uninstalling nvidia-curand-cu12-10.3.6.82:\n",
            "      Successfully uninstalled nvidia-curand-cu12-10.3.6.82\n",
            "  Attempting uninstall: nvidia-cufft-cu12\n",
            "    Found existing installation: nvidia-cufft-cu12 11.2.3.61\n",
            "    Uninstalling nvidia-cufft-cu12-11.2.3.61:\n",
            "      Successfully uninstalled nvidia-cufft-cu12-11.2.3.61\n",
            "  Attempting uninstall: nvidia-cuda-runtime-cu12\n",
            "    Found existing installation: nvidia-cuda-runtime-cu12 12.5.82\n",
            "    Uninstalling nvidia-cuda-runtime-cu12-12.5.82:\n",
            "      Successfully uninstalled nvidia-cuda-runtime-cu12-12.5.82\n",
            "  Attempting uninstall: nvidia-cuda-nvrtc-cu12\n",
            "    Found existing installation: nvidia-cuda-nvrtc-cu12 12.5.82\n",
            "    Uninstalling nvidia-cuda-nvrtc-cu12-12.5.82:\n",
            "      Successfully uninstalled nvidia-cuda-nvrtc-cu12-12.5.82\n",
            "  Attempting uninstall: nvidia-cuda-cupti-cu12\n",
            "    Found existing installation: nvidia-cuda-cupti-cu12 12.5.82\n",
            "    Uninstalling nvidia-cuda-cupti-cu12-12.5.82:\n",
            "      Successfully uninstalled nvidia-cuda-cupti-cu12-12.5.82\n",
            "  Attempting uninstall: nvidia-cublas-cu12\n",
            "    Found existing installation: nvidia-cublas-cu12 12.5.3.2\n",
            "    Uninstalling nvidia-cublas-cu12-12.5.3.2:\n",
            "      Successfully uninstalled nvidia-cublas-cu12-12.5.3.2\n",
            "  Attempting uninstall: nvidia-cusparse-cu12\n",
            "    Found existing installation: nvidia-cusparse-cu12 12.5.1.3\n",
            "    Uninstalling nvidia-cusparse-cu12-12.5.1.3:\n",
            "      Successfully uninstalled nvidia-cusparse-cu12-12.5.1.3\n",
            "  Attempting uninstall: nvidia-cudnn-cu12\n",
            "    Found existing installation: nvidia-cudnn-cu12 9.3.0.75\n",
            "    Uninstalling nvidia-cudnn-cu12-9.3.0.75:\n",
            "      Successfully uninstalled nvidia-cudnn-cu12-9.3.0.75\n",
            "  Attempting uninstall: nvidia-cusolver-cu12\n",
            "    Found existing installation: nvidia-cusolver-cu12 11.6.3.83\n",
            "    Uninstalling nvidia-cusolver-cu12-11.6.3.83:\n",
            "      Successfully uninstalled nvidia-cusolver-cu12-11.6.3.83\n",
            "Successfully installed catboost-1.2.8 nvidia-cublas-cu12-12.4.5.8 nvidia-cuda-cupti-cu12-12.4.127 nvidia-cuda-nvrtc-cu12-12.4.127 nvidia-cuda-runtime-cu12-12.4.127 nvidia-cudnn-cu12-9.1.0.70 nvidia-cufft-cu12-11.2.1.3 nvidia-curand-cu12-10.3.5.147 nvidia-cusolver-cu12-11.6.1.9 nvidia-cusparse-cu12-12.3.1.170 nvidia-nvjitlink-cu12-12.4.127 pytorch-tabnet-4.1.0\n"
          ]
        }
      ]
    },
    {
      "cell_type": "code",
      "execution_count": 69,
      "metadata": {
        "id": "DJ98t3lYyGWt"
      },
      "outputs": [],
      "source": [
        "import pandas as pd\n",
        "import numpy as np\n",
        "import matplotlib.pyplot as plt\n",
        "import seaborn as sns\n",
        "from sklearn.model_selection import train_test_split\n",
        "from sklearn.ensemble import RandomForestClassifier\n",
        "from sklearn.metrics import accuracy_score, precision_score, recall_score, f1_score, roc_auc_score\n",
        "import xgboost as xgb\n"
      ]
    },
    {
      "cell_type": "code",
      "source": [
        "X_train,y_train,X_test,y_test = pd.read_csv(\"/content/X_train.csv\"),pd.read_csv(\"/content/y_train.csv\"),pd.read_csv(\"/content/X_test.csv\"),pd.read_csv(\"/content/y_test.csv\")\n",
        "features = ['purchase_bins_encoded', 'weekday_encoded',\n",
        "       'email_text_encoded', 'email_version_encoded', 'user_country_encoded','hour','opened']\n",
        "X_train['opened'] = y_train['opened']\n",
        "X_test['opened'] = y_test['opened']"
      ],
      "metadata": {
        "id": "eMEyIL7WsSx6"
      },
      "execution_count": 70,
      "outputs": []
    },
    {
      "cell_type": "code",
      "execution_count": 71,
      "metadata": {
        "id": "l4Vb3aNTyGXF"
      },
      "outputs": [],
      "source": [
        "from catboost import CatBoostClassifier, Pool\n",
        "from sklearn.model_selection import train_test_split\n",
        "from sklearn.metrics import f1_score,accuracy_score, precision_score, recall_score, roc_auc_score\n"
      ]
    },
    {
      "cell_type": "code",
      "execution_count": 72,
      "metadata": {
        "id": "upx7alW7yGXG"
      },
      "outputs": [],
      "source": [
        "cat_features = features\n",
        "\n",
        "# Initialize the CatBoost model\n",
        "model = CatBoostClassifier(\n",
        "    iterations=5000,\n",
        "    learning_rate=0.01,\n",
        "    depth=6,\n",
        "    l2_leaf_reg=3.0,\n",
        "    random_strength=1.5,\n",
        "    bagging_temperature=1.0,\n",
        "    early_stopping_rounds=50,\n",
        "    class_weights=[1, 20],\n",
        "\n",
        "    use_best_model=True,\n",
        "    cat_features=cat_features,\n",
        "    random_seed=42,\n",
        "    verbose=10\n",
        ")\n",
        "\n",
        "\n"
      ]
    },
    {
      "cell_type": "code",
      "execution_count": 73,
      "metadata": {
        "colab": {
          "base_uri": "https://localhost:8080/"
        },
        "id": "65413Wg7yGXG",
        "outputId": "040ea02b-4ded-4a5a-a619-2fe5f6a1d262"
      },
      "outputs": [
        {
          "output_type": "stream",
          "name": "stdout",
          "text": [
            "0:\tlearn: 0.6772231\ttest: 0.6772213\tbest: 0.6772213 (0)\ttotal: 104ms\tremaining: 8m 38s\n",
            "10:\tlearn: 0.5427084\ttest: 0.5427819\tbest: 0.5427819 (10)\ttotal: 870ms\tremaining: 6m 34s\n",
            "20:\tlearn: 0.4474937\ttest: 0.4475933\tbest: 0.4475933 (20)\ttotal: 1.61s\tremaining: 6m 21s\n",
            "30:\tlearn: 0.3801073\ttest: 0.3802221\tbest: 0.3802221 (30)\ttotal: 2.26s\tremaining: 6m 2s\n",
            "40:\tlearn: 0.3320675\ttest: 0.3322302\tbest: 0.3322302 (40)\ttotal: 2.92s\tremaining: 5m 53s\n",
            "50:\tlearn: 0.2980396\ttest: 0.2982186\tbest: 0.2982186 (50)\ttotal: 3.48s\tremaining: 5m 37s\n",
            "60:\tlearn: 0.2734212\ttest: 0.2736167\tbest: 0.2736167 (60)\ttotal: 4.13s\tremaining: 5m 34s\n",
            "70:\tlearn: 0.2554140\ttest: 0.2556462\tbest: 0.2556462 (70)\ttotal: 4.77s\tremaining: 5m 31s\n",
            "80:\tlearn: 0.2421723\ttest: 0.2424091\tbest: 0.2424091 (80)\ttotal: 5.3s\tremaining: 5m 22s\n",
            "90:\tlearn: 0.2322092\ttest: 0.2324724\tbest: 0.2324724 (90)\ttotal: 5.95s\tremaining: 5m 21s\n",
            "100:\tlearn: 0.2247276\ttest: 0.2250022\tbest: 0.2250022 (100)\ttotal: 6.54s\tremaining: 5m 17s\n",
            "110:\tlearn: 0.2190193\ttest: 0.2193119\tbest: 0.2193119 (110)\ttotal: 7.22s\tremaining: 5m 17s\n",
            "120:\tlearn: 0.2146315\ttest: 0.2149328\tbest: 0.2149328 (120)\ttotal: 7.85s\tremaining: 5m 16s\n",
            "130:\tlearn: 0.2111750\ttest: 0.2115215\tbest: 0.2115215 (130)\ttotal: 8.65s\tremaining: 5m 21s\n",
            "140:\tlearn: 0.2085256\ttest: 0.2088915\tbest: 0.2088915 (140)\ttotal: 9.83s\tremaining: 5m 38s\n",
            "150:\tlearn: 0.2064359\ttest: 0.2068318\tbest: 0.2068318 (150)\ttotal: 11s\tremaining: 5m 54s\n",
            "160:\tlearn: 0.2047678\ttest: 0.2052004\tbest: 0.2052004 (160)\ttotal: 11.9s\tremaining: 5m 57s\n",
            "170:\tlearn: 0.2034596\ttest: 0.2039180\tbest: 0.2039180 (170)\ttotal: 12.5s\tremaining: 5m 53s\n",
            "180:\tlearn: 0.2024316\ttest: 0.2029095\tbest: 0.2029095 (180)\ttotal: 13.1s\tremaining: 5m 49s\n",
            "190:\tlearn: 0.2015851\ttest: 0.2021087\tbest: 0.2021087 (190)\ttotal: 13.9s\tremaining: 5m 49s\n",
            "200:\tlearn: 0.2009099\ttest: 0.2014677\tbest: 0.2014677 (200)\ttotal: 14.4s\tremaining: 5m 44s\n",
            "210:\tlearn: 0.2003689\ttest: 0.2009520\tbest: 0.2009520 (210)\ttotal: 15s\tremaining: 5m 41s\n",
            "220:\tlearn: 0.1999169\ttest: 0.2005492\tbest: 0.2005492 (220)\ttotal: 15.7s\tremaining: 5m 40s\n",
            "230:\tlearn: 0.1995765\ttest: 0.2002515\tbest: 0.2002515 (230)\ttotal: 16.5s\tremaining: 5m 39s\n",
            "240:\tlearn: 0.1992778\ttest: 0.1999770\tbest: 0.1999770 (240)\ttotal: 17.2s\tremaining: 5m 39s\n",
            "250:\tlearn: 0.1990274\ttest: 0.1997730\tbest: 0.1997730 (250)\ttotal: 17.9s\tremaining: 5m 37s\n",
            "260:\tlearn: 0.1988587\ttest: 0.1996218\tbest: 0.1996218 (260)\ttotal: 18.6s\tremaining: 5m 37s\n",
            "270:\tlearn: 0.1986634\ttest: 0.1994793\tbest: 0.1994793 (270)\ttotal: 19.3s\tremaining: 5m 37s\n",
            "280:\tlearn: 0.1985143\ttest: 0.1993837\tbest: 0.1993837 (280)\ttotal: 20s\tremaining: 5m 35s\n",
            "290:\tlearn: 0.1983947\ttest: 0.1992913\tbest: 0.1992913 (290)\ttotal: 20.6s\tremaining: 5m 33s\n",
            "300:\tlearn: 0.1982472\ttest: 0.1992373\tbest: 0.1992373 (300)\ttotal: 21.3s\tremaining: 5m 32s\n",
            "310:\tlearn: 0.1981592\ttest: 0.1991844\tbest: 0.1991844 (310)\ttotal: 22.3s\tremaining: 5m 36s\n",
            "320:\tlearn: 0.1980290\ttest: 0.1991436\tbest: 0.1991436 (320)\ttotal: 23.7s\tremaining: 5m 46s\n",
            "330:\tlearn: 0.1979539\ttest: 0.1991104\tbest: 0.1991104 (330)\ttotal: 24.7s\tremaining: 5m 48s\n",
            "340:\tlearn: 0.1978716\ttest: 0.1991133\tbest: 0.1991104 (330)\ttotal: 25.4s\tremaining: 5m 46s\n",
            "350:\tlearn: 0.1977668\ttest: 0.1990785\tbest: 0.1990721 (348)\ttotal: 26s\tremaining: 5m 44s\n",
            "360:\tlearn: 0.1976745\ttest: 0.1990727\tbest: 0.1990688 (357)\ttotal: 26.6s\tremaining: 5m 42s\n",
            "370:\tlearn: 0.1976061\ttest: 0.1990712\tbest: 0.1990635 (364)\ttotal: 27.3s\tremaining: 5m 40s\n",
            "380:\tlearn: 0.1975704\ttest: 0.1990744\tbest: 0.1990635 (364)\ttotal: 27.9s\tremaining: 5m 37s\n",
            "390:\tlearn: 0.1974999\ttest: 0.1990717\tbest: 0.1990635 (364)\ttotal: 28.5s\tremaining: 5m 36s\n",
            "400:\tlearn: 0.1974437\ttest: 0.1990677\tbest: 0.1990635 (364)\ttotal: 29.2s\tremaining: 5m 34s\n",
            "410:\tlearn: 0.1973561\ttest: 0.1990617\tbest: 0.1990615 (406)\ttotal: 29.8s\tremaining: 5m 32s\n",
            "420:\tlearn: 0.1972873\ttest: 0.1990690\tbest: 0.1990588 (415)\ttotal: 30.5s\tremaining: 5m 31s\n",
            "430:\tlearn: 0.1972515\ttest: 0.1990792\tbest: 0.1990588 (415)\ttotal: 31s\tremaining: 5m 29s\n",
            "440:\tlearn: 0.1972259\ttest: 0.1990857\tbest: 0.1990588 (415)\ttotal: 31.6s\tremaining: 5m 26s\n",
            "450:\tlearn: 0.1971900\ttest: 0.1990806\tbest: 0.1990588 (415)\ttotal: 32.2s\tremaining: 5m 25s\n",
            "460:\tlearn: 0.1971458\ttest: 0.1990812\tbest: 0.1990588 (415)\ttotal: 33.1s\tremaining: 5m 25s\n",
            "Stopped by overfitting detector  (50 iterations wait)\n",
            "\n",
            "bestTest = 0.1990587594\n",
            "bestIteration = 415\n",
            "\n",
            "Shrink model to first 416 iterations.\n"
          ]
        },
        {
          "output_type": "execute_result",
          "data": {
            "text/plain": [
              "<catboost.core.CatBoostClassifier at 0x7b4330ae0550>"
            ]
          },
          "metadata": {},
          "execution_count": 73
        }
      ],
      "source": [
        "model.fit(X_train, y_train['clicked'], eval_set=(X_test, y_test['clicked']))"
      ]
    },
    {
      "cell_type": "code",
      "execution_count": 74,
      "metadata": {
        "colab": {
          "base_uri": "https://localhost:8080/"
        },
        "id": "IdaeGkQxyGXH",
        "outputId": "cf1ec954-34fd-46f0-e872-fd330386447e"
      },
      "outputs": [
        {
          "output_type": "stream",
          "name": "stdout",
          "text": [
            "F1 Score on test set: 0.33212996389891697\n"
          ]
        }
      ],
      "source": [
        "y_pred_catb = model.predict(X_test)\n",
        "f1 = f1_score(y_test['clicked'], y_pred_catb)\n",
        "print(\"F1 Score on test set:\", f1)\n"
      ]
    },
    {
      "cell_type": "code",
      "execution_count": 75,
      "metadata": {
        "colab": {
          "base_uri": "https://localhost:8080/"
        },
        "id": "XDoyLbFWyGXJ",
        "outputId": "03f2d42a-5879-4434-f19c-185705849dc8"
      },
      "outputs": [
        {
          "output_type": "stream",
          "name": "stdout",
          "text": [
            "              precision    recall  f1-score   support\n",
            "\n",
            "           0       1.00      0.92      0.96     19576\n",
            "           1       0.20      0.98      0.33       424\n",
            "\n",
            "    accuracy                           0.92     20000\n",
            "   macro avg       0.60      0.95      0.64     20000\n",
            "weighted avg       0.98      0.92      0.94     20000\n",
            "\n"
          ]
        }
      ],
      "source": [
        "from sklearn.metrics import classification_report\n",
        "print(classification_report(y_test['clicked'], y_pred_catb))\n"
      ]
    },
    {
      "cell_type": "code",
      "execution_count": 76,
      "metadata": {
        "id": "SlQ0XQJ6yGXM"
      },
      "outputs": [],
      "source": [
        "dtrain = xgb.DMatrix(X_train, label=y_train['clicked'])\n",
        "dtest = xgb.DMatrix(X_test, label=y_test['clicked'])"
      ]
    },
    {
      "cell_type": "code",
      "execution_count": 77,
      "metadata": {
        "id": "q68nP3JDyGXM"
      },
      "outputs": [],
      "source": [
        "params = {\n",
        "    'booster': 'gbtree',\n",
        "    'objective': 'binary:logistic',\n",
        "    'eval_metric': 'logloss',\n",
        "    'max_depth': 7,\n",
        "    'eta': 0.05,\n",
        "    'subsample': 0.8,\n",
        "    'colsample_bytree': 0.8,\n",
        "    'lambda': 1.0,\n",
        "    'alpha': 0.5,\n",
        "    'seed': 42,\n",
        "    'scale_pos_weight': 20,\n",
        "\n",
        "}\n"
      ]
    },
    {
      "cell_type": "code",
      "execution_count": 78,
      "metadata": {
        "colab": {
          "base_uri": "https://localhost:8080/"
        },
        "id": "YIktvaNKyGXN",
        "outputId": "c0d01b5a-02df-45c5-cdb0-78dee1f11a6d"
      },
      "outputs": [
        {
          "output_type": "stream",
          "name": "stdout",
          "text": [
            "[0]\ttrain-logloss:0.38913\ttest-logloss:0.38927\n",
            "[50]\ttrain-logloss:0.16126\ttest-logloss:0.16505\n",
            "[100]\ttrain-logloss:0.13711\ttest-logloss:0.14483\n",
            "[150]\ttrain-logloss:0.12510\ttest-logloss:0.13717\n",
            "[200]\ttrain-logloss:0.11531\ttest-logloss:0.13101\n",
            "[250]\ttrain-logloss:0.10590\ttest-logloss:0.12570\n",
            "[300]\ttrain-logloss:0.09820\ttest-logloss:0.12175\n",
            "[350]\ttrain-logloss:0.09155\ttest-logloss:0.11840\n",
            "[400]\ttrain-logloss:0.08543\ttest-logloss:0.11539\n",
            "[450]\ttrain-logloss:0.08005\ttest-logloss:0.11295\n",
            "[500]\ttrain-logloss:0.07532\ttest-logloss:0.11088\n",
            "[550]\ttrain-logloss:0.07096\ttest-logloss:0.10903\n",
            "[600]\ttrain-logloss:0.06703\ttest-logloss:0.10750\n",
            "[650]\ttrain-logloss:0.06348\ttest-logloss:0.10616\n",
            "[700]\ttrain-logloss:0.06026\ttest-logloss:0.10465\n",
            "[750]\ttrain-logloss:0.05756\ttest-logloss:0.10383\n",
            "[800]\ttrain-logloss:0.05438\ttest-logloss:0.10286\n",
            "[850]\ttrain-logloss:0.05197\ttest-logloss:0.10211\n",
            "[900]\ttrain-logloss:0.04984\ttest-logloss:0.10156\n",
            "[950]\ttrain-logloss:0.04758\ttest-logloss:0.10125\n",
            "[1000]\ttrain-logloss:0.04558\ttest-logloss:0.10109\n",
            "[1050]\ttrain-logloss:0.04373\ttest-logloss:0.10097\n",
            "[1100]\ttrain-logloss:0.04194\ttest-logloss:0.10060\n",
            "[1150]\ttrain-logloss:0.04020\ttest-logloss:0.10058\n",
            "[1172]\ttrain-logloss:0.03947\ttest-logloss:0.10063\n"
          ]
        }
      ],
      "source": [
        "watchlist = [(dtrain, 'train'), (dtest, 'test')]\n",
        "\n",
        "# Train with early stopping\n",
        "bst = xgb.train(\n",
        "    params=params,\n",
        "    dtrain=dtrain,\n",
        "    num_boost_round=2000,\n",
        "    evals=watchlist,\n",
        "    early_stopping_rounds=50,\n",
        "    verbose_eval=50\n",
        "\n",
        ")"
      ]
    },
    {
      "cell_type": "code",
      "execution_count": 79,
      "metadata": {
        "colab": {
          "base_uri": "https://localhost:8080/"
        },
        "id": "nTm46wRhyGXO",
        "outputId": "e3199a1a-cf22-484d-e446-cc0d2ded153c"
      },
      "outputs": [
        {
          "output_type": "stream",
          "name": "stdout",
          "text": [
            "F1_score: 0.2631\n",
            "Best iteration: 1123\n",
            "Best score: 0.10048042858328828\n"
          ]
        }
      ],
      "source": [
        "from sklearn.metrics import f1_score\n",
        "y_pred_prob = bst.predict(dtest, iteration_range=(0, bst.best_iteration + 1))\n",
        "y_pred_xgb = (y_pred_prob > 0.5).astype(int)\n",
        "\n",
        "# Evaluate\n",
        "\n",
        "f1 = f1_score(y_test['clicked'], y_pred_xgb)\n",
        "print(f\"F1_score: {f1:.4f}\")\n",
        "print(f\"Best iteration: {bst.best_iteration}\")\n",
        "print(f\"Best score: {bst.best_score}\")"
      ]
    },
    {
      "cell_type": "code",
      "source": [
        "import numpy as np\n",
        "from pytorch_tabnet.tab_model import TabNetClassifier\n",
        "import torch\n",
        "X_train_np = X_train.values\n",
        "X_test_np = X_test.values\n",
        "y_train_np = y_train['clicked'].values.flatten()\n",
        "y_test_np = y_test['clicked'].values.flatten()\n",
        "\n",
        "# Step 2: Initialize and train TabNet\n",
        "tabnet_model = TabNetClassifier(\n",
        "    n_d=16, n_a=16, n_steps=5,\n",
        "    gamma=1.5, lambda_sparse=1e-4,\n",
        "    optimizer_fn=torch.optim.Adam,\n",
        "    optimizer_params=dict(lr=2e-2),\n",
        "    scheduler_params={\"step_size\":10, \"gamma\":0.9},\n",
        "    scheduler_fn=torch.optim.lr_scheduler.StepLR,\n",
        "    mask_type='sparsemax',\n",
        "    verbose=True,\n",
        "    seed=42\n",
        ")"
      ],
      "metadata": {
        "colab": {
          "base_uri": "https://localhost:8080/"
        },
        "id": "_g71AJby4vm5",
        "outputId": "646e2abd-cd94-45ec-8ba6-3854034583f8"
      },
      "execution_count": 80,
      "outputs": [
        {
          "output_type": "stream",
          "name": "stderr",
          "text": [
            "/usr/local/lib/python3.11/dist-packages/pytorch_tabnet/abstract_model.py:82: UserWarning: Device used : cpu\n",
            "  warnings.warn(f\"Device used : {self.device}\")\n"
          ]
        }
      ]
    },
    {
      "cell_type": "code",
      "source": [
        "\n",
        "tabnet_model.fit(\n",
        "    X_train_np, y_train_np,\n",
        "    eval_set=[(X_test_np, y_test_np)],\n",
        "    eval_name=[\"val\"],\n",
        "    eval_metric=[\"logloss\"],\n",
        "    max_epochs=20,\n",
        "    patience=5,\n",
        "    batch_size=1024,\n",
        "    virtual_batch_size=128,\n",
        "    num_workers=0,\n",
        "    drop_last=False,\n",
        "    weights={0:1,1:20}\n",
        "\n",
        ")"
      ],
      "metadata": {
        "colab": {
          "base_uri": "https://localhost:8080/"
        },
        "id": "Am8cRaHW43WX",
        "outputId": "ca850b0e-ee1d-4b7b-cc7f-bafc7b2ad4b9"
      },
      "execution_count": 81,
      "outputs": [
        {
          "output_type": "stream",
          "name": "stdout",
          "text": [
            "epoch 0  | loss: 0.28051 | val_logloss: 0.33909 |  0:00:08s\n",
            "epoch 1  | loss: 0.20616 | val_logloss: 0.18928 |  0:00:17s\n",
            "epoch 2  | loss: 0.1991  | val_logloss: 0.16806 |  0:00:26s\n",
            "epoch 3  | loss: 0.19908 | val_logloss: 0.16584 |  0:00:34s\n",
            "epoch 4  | loss: 0.20141 | val_logloss: 0.14943 |  0:00:43s\n",
            "epoch 5  | loss: 0.19472 | val_logloss: 0.14837 |  0:00:53s\n",
            "epoch 6  | loss: 0.19629 | val_logloss: 0.17609 |  0:01:02s\n",
            "epoch 7  | loss: 0.19723 | val_logloss: 0.17634 |  0:01:11s\n",
            "epoch 8  | loss: 0.20068 | val_logloss: 0.17035 |  0:01:20s\n",
            "epoch 9  | loss: 0.19357 | val_logloss: 0.17438 |  0:01:30s\n",
            "epoch 10 | loss: 0.20015 | val_logloss: 0.15366 |  0:01:39s\n",
            "\n",
            "Early stopping occurred at epoch 10 with best_epoch = 5 and best_val_logloss = 0.14837\n"
          ]
        },
        {
          "output_type": "stream",
          "name": "stderr",
          "text": [
            "/usr/local/lib/python3.11/dist-packages/pytorch_tabnet/callbacks.py:172: UserWarning: Best weights from best epoch are automatically used!\n",
            "  warnings.warn(wrn_msg)\n"
          ]
        }
      ]
    },
    {
      "cell_type": "code",
      "source": [
        "# Predictions\n",
        "preds_proba = tabnet_model.predict_proba(X_test_np)[:, 1]\n",
        "preds_tabnet = (preds_proba > 0.5).astype(int)\n",
        "\n",
        "# Metrics\n",
        "accuracy = accuracy_score(y_test_np, preds_tabnet)\n",
        "precision = precision_score(y_test_np, preds_tabnet)\n",
        "recall = recall_score(y_test_np, preds_tabnet)\n",
        "f1 = f1_score(y_test_np, preds_tabnet)\n",
        "\n",
        "\n",
        "# Output results\n",
        "print(\"\\nTabNet Performance:\")\n",
        "print(f\"Accuracy:  {accuracy:.4f}\")\n",
        "print(f\"Precision: {precision:.4f}\")\n",
        "print(f\"Recall:    {recall:.4f}\")\n",
        "print(f\"F1 Score:  {f1:.4f}\")\n",
        "\n"
      ],
      "metadata": {
        "colab": {
          "base_uri": "https://localhost:8080/"
        },
        "id": "KIxM5sGJ6wfP",
        "outputId": "59a09bc3-df8a-45d5-b49f-7112c5644b74"
      },
      "execution_count": 82,
      "outputs": [
        {
          "output_type": "stream",
          "name": "stdout",
          "text": [
            "\n",
            "TabNet Performance:\n",
            "Accuracy:  0.9167\n",
            "Precision: 0.1997\n",
            "Recall:    0.9741\n",
            "F1 Score:  0.3315\n"
          ]
        }
      ]
    },
    {
      "cell_type": "code",
      "source": [
        "def majority_vote(preds1, preds2,preds3):\n",
        "    preds = np.array([preds1, preds2,preds3])\n",
        "    # Sum predictions and take majority vote\n",
        "    maj_vote = np.apply_along_axis(lambda x: np.argmax(np.bincount(x)), axis=0, arr=preds)\n",
        "    return maj_vote"
      ],
      "metadata": {
        "id": "RpmqKrJ_-L5h"
      },
      "execution_count": 83,
      "outputs": []
    },
    {
      "cell_type": "code",
      "source": [
        "ensemble_preds = majority_vote(y_pred_catb, preds_tabnet, y_pred_xgb)"
      ],
      "metadata": {
        "id": "ijPfIq_P-ToW"
      },
      "execution_count": 84,
      "outputs": []
    },
    {
      "cell_type": "code",
      "execution_count": 85,
      "metadata": {
        "colab": {
          "base_uri": "https://localhost:8080/"
        },
        "id": "PO_SJsQWyGXQ",
        "outputId": "45574ee5-04f0-4c84-a0d7-51a4c2d27a26"
      },
      "outputs": [
        {
          "output_type": "stream",
          "name": "stdout",
          "text": [
            "Ensemble Accuracy: 0.9167\n",
            "Ensemble Precision: 0.1997\n",
            "Ensemble Recall: 0.9741\n",
            "Ensemble F1 Score: 0.3315\n",
            "\n",
            "Individual Model Performance:\n",
            "CatBoost F1: 0.3321\n",
            "XGBoost F1: 0.2631\n",
            "Tabnet F1 : 0.33146067415730335\n"
          ]
        }
      ],
      "source": [
        "\n",
        "# Evaluate accuracy\n",
        "accuracy = accuracy_score(y_test['clicked'], ensemble_preds)\n",
        "precision = precision_score(y_test['clicked'], ensemble_preds)\n",
        "recall = recall_score(y_test['clicked'], ensemble_preds)\n",
        "f1 = f1_score(y_test['clicked'], ensemble_preds)\n",
        "\n",
        "print(f\"Ensemble Accuracy: {accuracy:.4f}\")\n",
        "print(f\"Ensemble Precision: {precision:.4f}\")\n",
        "print(f\"Ensemble Recall: {recall:.4f}\")\n",
        "print(f\"Ensemble F1 Score: {f1:.4f}\")\n",
        "\n",
        "# Compare with individual models\n",
        "print(\"\\nIndividual Model Performance:\")\n",
        "print(f\"CatBoost F1: {f1_score(y_test['clicked'], y_pred_catb):.4f}\")\n",
        "print(f\"XGBoost F1: {f1_score(y_test['clicked'], y_pred_xgb):.4f}\")\n",
        "print(f\"Tabnet F1 : {f1_score(y_test['clicked'],preds_tabnet)}\")"
      ]
    },
    {
      "cell_type": "code",
      "source": [
        "opened_preds = pd.read_csv('/content/opened_prediction.csv')"
      ],
      "metadata": {
        "id": "zhwE2ZME3UJ4"
      },
      "execution_count": 86,
      "outputs": []
    },
    {
      "cell_type": "code",
      "source": [
        "#Ensemble_preds opened with F1_metrics\n",
        "\n",
        "\n",
        "X_test_new = X_test.copy()\n",
        "X_test_new['opened'] = opened_preds['0']\n",
        "\n",
        "y_pred_catb_new = model.predict(X_test_new)\n",
        "preds_proba = tabnet_model.predict_proba(X_test_new.values)[:, 1]\n",
        "preds_tabnet_new = (preds_proba > 0.5).astype(int)\n",
        "\n",
        "y_pred_prob = bst.predict(xgb.DMatrix(X_test_new, label=y_test['clicked']), iteration_range=(0, bst.best_iteration + 1))\n",
        "y_pred_xgb_new = (y_pred_prob > 0.5).astype(int)\n",
        "\n",
        "\n"
      ],
      "metadata": {
        "id": "MV6gR_6Loyia"
      },
      "execution_count": 89,
      "outputs": []
    },
    {
      "cell_type": "code",
      "source": [
        "ensemble_preds_new = majority_vote(y_pred_catb_new, preds_tabnet_new, y_pred_xgb_new)"
      ],
      "metadata": {
        "id": "7i8C1k170csT"
      },
      "execution_count": 90,
      "outputs": []
    },
    {
      "cell_type": "code",
      "source": [
        "\n",
        "# Evaluate accuracy\n",
        "accuracy = accuracy_score(y_test['clicked'], ensemble_preds_new)\n",
        "precision = precision_score(y_test['clicked'], ensemble_preds_new)\n",
        "recall = recall_score(y_test['clicked'], ensemble_preds_new)\n",
        "f1 = f1_score(y_test['clicked'], ensemble_preds_new)\n",
        "\n",
        "print(f\"Ensemble Accuracy: {accuracy:.4f}\")\n",
        "print(f\"Ensemble Precision: {precision:.4f}\")\n",
        "print(f\"Ensemble Recall: {recall:.4f}\")\n",
        "print(f\"Ensemble F1 Score: {f1:.4f}\")\n",
        "\n",
        "# Compare with individual models\n",
        "print(\"\\nIndividual Model Performance:\")\n",
        "print(f\"CatBoost F1: {f1_score(y_test['clicked'], y_pred_catb_new):.4f}\")\n",
        "print(f\"XGBoost F1: {f1_score(y_test['clicked'], y_pred_xgb_new):.4f}\")\n",
        "print(f\"Tabnet F1 : {f1_score(y_test['clicked'],preds_tabnet_new)}\")"
      ],
      "metadata": {
        "colab": {
          "base_uri": "https://localhost:8080/"
        },
        "id": "IeuwwTZw0jJk",
        "outputId": "a57ad545-f0a3-4dce-e2d6-e3a2bdff0c64"
      },
      "execution_count": 91,
      "outputs": [
        {
          "output_type": "stream",
          "name": "stdout",
          "text": [
            "Ensemble Accuracy: 0.6370\n",
            "Ensemble Precision: 0.0381\n",
            "Ensemble Recall: 0.6651\n",
            "Ensemble F1 Score: 0.0721\n",
            "\n",
            "Individual Model Performance:\n",
            "CatBoost F1: 0.0723\n",
            "XGBoost F1: 0.0643\n",
            "Tabnet F1 : 0.07208588957055215\n"
          ]
        }
      ]
    },
    {
      "cell_type": "code",
      "source": [
        "\n",
        "\n",
        "\n",
        "\n",
        "\n",
        "\n",
        "\n",
        "\n",
        "\n",
        "\n",
        "\n",
        "\n",
        "\n"
      ],
      "metadata": {
        "id": "V7PyTmHL0kko"
      },
      "execution_count": null,
      "outputs": []
    }
  ],
  "metadata": {
    "kernelspec": {
      "display_name": "intro_dl",
      "language": "python",
      "name": "intro_dl"
    },
    "language_info": {
      "codemirror_mode": {
        "name": "ipython",
        "version": 3
      },
      "file_extension": ".py",
      "mimetype": "text/x-python",
      "name": "python",
      "nbconvert_exporter": "python",
      "pygments_lexer": "ipython3",
      "version": "3.11.1"
    },
    "colab": {
      "provenance": []
    }
  },
  "nbformat": 4,
  "nbformat_minor": 0
}